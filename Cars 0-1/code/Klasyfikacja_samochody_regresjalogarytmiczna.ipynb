{
 "cells": [
  {
   "cell_type": "code",
   "execution_count": 1,
   "id": "4cd1f9a1-3292-404c-864e-27a44fed06dd",
   "metadata": {},
   "outputs": [],
   "source": [
    "import numpy as np # linear algebra\n",
    "import pandas as pd # data processing, CSV file I/O (e.g. pd.read_csv)\n",
    "import matplotlib.pyplot as plt # data visualization\n",
    "import seaborn as sns # statistical data visualization\n",
    "%matplotlib inline\n",
    "from sklearn.metrics import f1_score, accuracy_score, confusion_matrix"
   ]
  },
  {
   "cell_type": "code",
   "execution_count": 2,
   "id": "9ce856c4-7ceb-4b12-a14d-941a68881362",
   "metadata": {},
   "outputs": [],
   "source": [
    "# Loading data and sample them for test nad training sets\n",
    "df_test = pd.read_csv(\"/Users/lippd/Desktop/ML in R/Python/Cars 0-1/data/cepik_dane_testowe.csv\")\n",
    "df_train = pd.read_csv(\"/Users/lippd/Desktop/ML in R/Python/Cars 0-1/data/cepik_dane_uczące.csv\")"
   ]
  },
  {
   "cell_type": "code",
   "execution_count": 3,
   "id": "3a951c6a-a01b-457f-9b97-16cebce1403d",
   "metadata": {},
   "outputs": [],
   "source": [
    "df_train = pd.concat([df_test, df_train])"
   ]
  },
  {
   "cell_type": "code",
   "execution_count": 4,
   "id": "50bd7206-0d54-4aec-95ed-a54d1ee9560a",
   "metadata": {},
   "outputs": [
    {
     "name": "stdout",
     "output_type": "stream",
     "text": [
      "<class 'pandas.core.frame.DataFrame'>\n",
      "Int64Index: 16014 entries, 0 to 8818\n",
      "Data columns (total 4 columns):\n",
      " #   Column     Non-Null Count  Dtype \n",
      "---  ------     --------------  ----- \n",
      " 0   Mark       16014 non-null  object\n",
      " 1   Model      16014 non-null  object\n",
      " 2   Type       15130 non-null  object\n",
      " 3   IsDeleted  16014 non-null  int64 \n",
      "dtypes: int64(1), object(3)\n",
      "memory usage: 625.5+ KB\n"
     ]
    }
   ],
   "source": [
    "df_train.info()"
   ]
  },
  {
   "cell_type": "code",
   "execution_count": 5,
   "id": "9fd5e1f7-c470-462f-830e-df3610bb6ecf",
   "metadata": {},
   "outputs": [
    {
     "data": {
      "text/plain": [
       "Mark           0\n",
       "Model          0\n",
       "Type         884\n",
       "IsDeleted      0\n",
       "dtype: int64"
      ]
     },
     "execution_count": 5,
     "metadata": {},
     "output_type": "execute_result"
    }
   ],
   "source": [
    "df_train.isnull().sum()"
   ]
  },
  {
   "cell_type": "code",
   "execution_count": 6,
   "id": "c12a866d-e615-4902-a25d-dd8bc3836531",
   "metadata": {},
   "outputs": [
    {
     "name": "stdout",
     "output_type": "stream",
     "text": [
      "MERCEDES-BENZ              2260\n",
      "BMW                        2035\n",
      "AUDI                        861\n",
      "OPEL                        830\n",
      "VOLKSWAGEN                  690\n",
      "                           ... \n",
      "MATRA-RENAULT                 1\n",
      "SAM                           1\n",
      "AC                            1\n",
      "MERCEDES-BENZ/AMZ-KUTNO       1\n",
      "AUDI 4L                       1\n",
      "Name: Mark, Length: 160, dtype: int64\n",
      "---               46\n",
      "JAZZ              26\n",
      "307               23\n",
      "FOCUS             22\n",
      "MATIZ             20\n",
      "                  ..\n",
      "407 1.6 HDI SW     1\n",
      "Q5 50 TFSI E       1\n",
      "ALPINA B5          1\n",
      "530 I              1\n",
      "COMMANDER 3.7      1\n",
      "Name: Model, Length: 6199, dtype: int64\n",
      "---       10111\n",
      "245 G        91\n",
      "212          65\n",
      "UKL-L        65\n",
      "204          60\n",
      "          ...  \n",
      "0S            1\n",
      "GMX511        1\n",
      "TF69V         1\n",
      "GMT926        1\n",
      "C7            1\n",
      "Name: Type, Length: 1003, dtype: int64\n",
      "0    15196\n",
      "1      818\n",
      "Name: IsDeleted, dtype: int64\n"
     ]
    }
   ],
   "source": [
    "# view frequency of categorical variables\n",
    "for var in df_train:\n",
    "    print(df_train[var].value_counts())"
   ]
  },
  {
   "cell_type": "code",
   "execution_count": 7,
   "id": "81e8f2a8-73e6-4257-8cf8-f779eb1e0625",
   "metadata": {},
   "outputs": [
    {
     "name": "stdout",
     "output_type": "stream",
     "text": [
      "MERCEDES-BENZ              0.141127\n",
      "BMW                        0.127076\n",
      "AUDI                       0.053765\n",
      "OPEL                       0.051830\n",
      "VOLKSWAGEN                 0.043087\n",
      "                             ...   \n",
      "MATRA-RENAULT              0.000062\n",
      "SAM                        0.000062\n",
      "AC                         0.000062\n",
      "MERCEDES-BENZ/AMZ-KUTNO    0.000062\n",
      "AUDI 4L                    0.000062\n",
      "Name: Mark, Length: 160, dtype: float64\n",
      "---               0.002872\n",
      "JAZZ              0.001624\n",
      "307               0.001436\n",
      "FOCUS             0.001374\n",
      "MATIZ             0.001249\n",
      "                    ...   \n",
      "407 1.6 HDI SW    0.000062\n",
      "Q5 50 TFSI E      0.000062\n",
      "ALPINA B5         0.000062\n",
      "530 I             0.000062\n",
      "COMMANDER 3.7     0.000062\n",
      "Name: Model, Length: 6199, dtype: float64\n",
      "---       0.631385\n",
      "245 G     0.005683\n",
      "212       0.004059\n",
      "UKL-L     0.004059\n",
      "204       0.003747\n",
      "            ...   \n",
      "0S        0.000062\n",
      "GMX511    0.000062\n",
      "TF69V     0.000062\n",
      "GMT926    0.000062\n",
      "C7        0.000062\n",
      "Name: Type, Length: 1003, dtype: float64\n",
      "0    0.94892\n",
      "1    0.05108\n",
      "Name: IsDeleted, dtype: float64\n"
     ]
    },
    {
     "name": "stderr",
     "output_type": "stream",
     "text": [
      "<ipython-input-7-889ec5e9e678>:4: DeprecationWarning: `np.float` is a deprecated alias for the builtin `float`. To silence this warning, use `float` by itself. Doing this will not modify any behavior and is safe. If you specifically wanted the numpy scalar type, use `np.float64` here.\n",
      "Deprecated in NumPy 1.20; for more details and guidance: https://numpy.org/devdocs/release/1.20.0-notes.html#deprecations\n",
      "  print(df_train[var].value_counts()/np.float(len(df_train)))\n"
     ]
    }
   ],
   "source": [
    "# view frequency distribution of categorical variables\n",
    "\n",
    "for var in df_train:\n",
    "    print(df_train[var].value_counts()/np.float(len(df_train)))"
   ]
  },
  {
   "cell_type": "code",
   "execution_count": 8,
   "id": "02a70436-7567-4d34-bcc0-b76a7ddfc9a7",
   "metadata": {},
   "outputs": [
    {
     "data": {
      "text/html": [
       "<div>\n",
       "<style scoped>\n",
       "    .dataframe tbody tr th:only-of-type {\n",
       "        vertical-align: middle;\n",
       "    }\n",
       "\n",
       "    .dataframe tbody tr th {\n",
       "        vertical-align: top;\n",
       "    }\n",
       "\n",
       "    .dataframe thead th {\n",
       "        text-align: right;\n",
       "    }\n",
       "</style>\n",
       "<table border=\"1\" class=\"dataframe\">\n",
       "  <thead>\n",
       "    <tr style=\"text-align: right;\">\n",
       "      <th></th>\n",
       "      <th>ACURA</th>\n",
       "      <th>AIXAM</th>\n",
       "      <th>ALFA ROMEO</th>\n",
       "      <th>ALFA-ROMEO</th>\n",
       "      <th>ALPINA</th>\n",
       "      <th>ALPINE</th>\n",
       "      <th>AMZ-KUTNO</th>\n",
       "      <th>API CZ</th>\n",
       "      <th>ARIEL</th>\n",
       "      <th>ASIA</th>\n",
       "      <th>...</th>\n",
       "      <th>VOLKSWAGEN/V-VAN</th>\n",
       "      <th>VOLKSWAGEN/WALDI</th>\n",
       "      <th>VOLKSWAGEN/ZIMNY</th>\n",
       "      <th>VOLVO</th>\n",
       "      <th>VOSCO</th>\n",
       "      <th>WARMIAKI/MB SPRINTER</th>\n",
       "      <th>WARTBURG</th>\n",
       "      <th>WAZ</th>\n",
       "      <th>WSM-BIELSKO BIAŁA</th>\n",
       "      <th>ZHONGHUA</th>\n",
       "    </tr>\n",
       "  </thead>\n",
       "  <tbody>\n",
       "    <tr>\n",
       "      <th>0</th>\n",
       "      <td>0</td>\n",
       "      <td>0</td>\n",
       "      <td>0</td>\n",
       "      <td>0</td>\n",
       "      <td>0</td>\n",
       "      <td>0</td>\n",
       "      <td>0</td>\n",
       "      <td>0</td>\n",
       "      <td>0</td>\n",
       "      <td>0</td>\n",
       "      <td>...</td>\n",
       "      <td>0</td>\n",
       "      <td>0</td>\n",
       "      <td>0</td>\n",
       "      <td>0</td>\n",
       "      <td>0</td>\n",
       "      <td>0</td>\n",
       "      <td>0</td>\n",
       "      <td>0</td>\n",
       "      <td>0</td>\n",
       "      <td>0</td>\n",
       "    </tr>\n",
       "    <tr>\n",
       "      <th>1</th>\n",
       "      <td>0</td>\n",
       "      <td>0</td>\n",
       "      <td>0</td>\n",
       "      <td>0</td>\n",
       "      <td>0</td>\n",
       "      <td>0</td>\n",
       "      <td>0</td>\n",
       "      <td>0</td>\n",
       "      <td>0</td>\n",
       "      <td>0</td>\n",
       "      <td>...</td>\n",
       "      <td>0</td>\n",
       "      <td>0</td>\n",
       "      <td>0</td>\n",
       "      <td>0</td>\n",
       "      <td>0</td>\n",
       "      <td>0</td>\n",
       "      <td>0</td>\n",
       "      <td>0</td>\n",
       "      <td>0</td>\n",
       "      <td>0</td>\n",
       "    </tr>\n",
       "    <tr>\n",
       "      <th>2</th>\n",
       "      <td>0</td>\n",
       "      <td>0</td>\n",
       "      <td>0</td>\n",
       "      <td>0</td>\n",
       "      <td>0</td>\n",
       "      <td>0</td>\n",
       "      <td>0</td>\n",
       "      <td>0</td>\n",
       "      <td>0</td>\n",
       "      <td>0</td>\n",
       "      <td>...</td>\n",
       "      <td>0</td>\n",
       "      <td>0</td>\n",
       "      <td>0</td>\n",
       "      <td>0</td>\n",
       "      <td>0</td>\n",
       "      <td>0</td>\n",
       "      <td>0</td>\n",
       "      <td>0</td>\n",
       "      <td>0</td>\n",
       "      <td>0</td>\n",
       "    </tr>\n",
       "    <tr>\n",
       "      <th>3</th>\n",
       "      <td>0</td>\n",
       "      <td>0</td>\n",
       "      <td>0</td>\n",
       "      <td>0</td>\n",
       "      <td>0</td>\n",
       "      <td>0</td>\n",
       "      <td>0</td>\n",
       "      <td>0</td>\n",
       "      <td>0</td>\n",
       "      <td>0</td>\n",
       "      <td>...</td>\n",
       "      <td>0</td>\n",
       "      <td>0</td>\n",
       "      <td>0</td>\n",
       "      <td>0</td>\n",
       "      <td>0</td>\n",
       "      <td>0</td>\n",
       "      <td>0</td>\n",
       "      <td>0</td>\n",
       "      <td>0</td>\n",
       "      <td>0</td>\n",
       "    </tr>\n",
       "    <tr>\n",
       "      <th>4</th>\n",
       "      <td>0</td>\n",
       "      <td>0</td>\n",
       "      <td>0</td>\n",
       "      <td>0</td>\n",
       "      <td>0</td>\n",
       "      <td>0</td>\n",
       "      <td>0</td>\n",
       "      <td>0</td>\n",
       "      <td>0</td>\n",
       "      <td>0</td>\n",
       "      <td>...</td>\n",
       "      <td>0</td>\n",
       "      <td>0</td>\n",
       "      <td>0</td>\n",
       "      <td>0</td>\n",
       "      <td>0</td>\n",
       "      <td>0</td>\n",
       "      <td>0</td>\n",
       "      <td>0</td>\n",
       "      <td>0</td>\n",
       "      <td>0</td>\n",
       "    </tr>\n",
       "  </tbody>\n",
       "</table>\n",
       "<p>5 rows × 159 columns</p>\n",
       "</div>"
      ],
      "text/plain": [
       "   ACURA  AIXAM  ALFA ROMEO  ALFA-ROMEO  ALPINA  ALPINE  AMZ-KUTNO  API CZ  \\\n",
       "0      0      0           0           0       0       0          0       0   \n",
       "1      0      0           0           0       0       0          0       0   \n",
       "2      0      0           0           0       0       0          0       0   \n",
       "3      0      0           0           0       0       0          0       0   \n",
       "4      0      0           0           0       0       0          0       0   \n",
       "\n",
       "   ARIEL  ASIA  ...  VOLKSWAGEN/V-VAN  VOLKSWAGEN/WALDI  VOLKSWAGEN/ZIMNY  \\\n",
       "0      0     0  ...                 0                 0                 0   \n",
       "1      0     0  ...                 0                 0                 0   \n",
       "2      0     0  ...                 0                 0                 0   \n",
       "3      0     0  ...                 0                 0                 0   \n",
       "4      0     0  ...                 0                 0                 0   \n",
       "\n",
       "   VOLVO  VOSCO  WARMIAKI/MB SPRINTER  WARTBURG  WAZ  WSM-BIELSKO BIAŁA  \\\n",
       "0      0      0                     0         0    0                  0   \n",
       "1      0      0                     0         0    0                  0   \n",
       "2      0      0                     0         0    0                  0   \n",
       "3      0      0                     0         0    0                  0   \n",
       "4      0      0                     0         0    0                  0   \n",
       "\n",
       "   ZHONGHUA  \n",
       "0         0  \n",
       "1         0  \n",
       "2         0  \n",
       "3         0  \n",
       "4         0  \n",
       "\n",
       "[5 rows x 159 columns]"
      ]
     },
     "execution_count": 8,
     "metadata": {},
     "output_type": "execute_result"
    }
   ],
   "source": [
    "# get dummies from categorical variables\n",
    "\n",
    "pd.get_dummies(df_train.Mark.unique(), drop_first = True).head()"
   ]
  },
  {
   "cell_type": "code",
   "execution_count": 9,
   "id": "4cd7b235-f352-4371-8570-334029faaf97",
   "metadata": {},
   "outputs": [
    {
     "data": {
      "text/html": [
       "<div>\n",
       "<style scoped>\n",
       "    .dataframe tbody tr th:only-of-type {\n",
       "        vertical-align: middle;\n",
       "    }\n",
       "\n",
       "    .dataframe tbody tr th {\n",
       "        vertical-align: top;\n",
       "    }\n",
       "\n",
       "    .dataframe thead th {\n",
       "        text-align: right;\n",
       "    }\n",
       "</style>\n",
       "<table border=\"1\" class=\"dataframe\">\n",
       "  <thead>\n",
       "    <tr style=\"text-align: right;\">\n",
       "      <th></th>\n",
       "      <th>0MG67</th>\n",
       "      <th>1</th>\n",
       "      <th>1.1</th>\n",
       "      <th>1.1 LIMUZYNA</th>\n",
       "      <th>1.3</th>\n",
       "      <th>100</th>\n",
       "      <th>100 1.8</th>\n",
       "      <th>100 2,6 KAT.</th>\n",
       "      <th>100 2.0</th>\n",
       "      <th>100 2.0 KAT</th>\n",
       "      <th>...</th>\n",
       "      <th>ZAFIRA-A 2.0 DTL</th>\n",
       "      <th>ZAFIRA-A 2.0 TDI</th>\n",
       "      <th>ZAFIRA-B</th>\n",
       "      <th>ZAFIRA-B 1.7 CDTI</th>\n",
       "      <th>ZAFIRA-B 1.8</th>\n",
       "      <th>ZAFIRA-C</th>\n",
       "      <th>ZDX</th>\n",
       "      <th>ZOE</th>\n",
       "      <th>ZX</th>\n",
       "      <th>NaN</th>\n",
       "    </tr>\n",
       "  </thead>\n",
       "  <tbody>\n",
       "    <tr>\n",
       "      <th>0</th>\n",
       "      <td>0</td>\n",
       "      <td>0</td>\n",
       "      <td>0</td>\n",
       "      <td>0</td>\n",
       "      <td>0</td>\n",
       "      <td>0</td>\n",
       "      <td>0</td>\n",
       "      <td>0</td>\n",
       "      <td>0</td>\n",
       "      <td>0</td>\n",
       "      <td>...</td>\n",
       "      <td>0</td>\n",
       "      <td>0</td>\n",
       "      <td>0</td>\n",
       "      <td>0</td>\n",
       "      <td>0</td>\n",
       "      <td>0</td>\n",
       "      <td>0</td>\n",
       "      <td>0</td>\n",
       "      <td>0</td>\n",
       "      <td>0</td>\n",
       "    </tr>\n",
       "    <tr>\n",
       "      <th>1</th>\n",
       "      <td>0</td>\n",
       "      <td>0</td>\n",
       "      <td>0</td>\n",
       "      <td>0</td>\n",
       "      <td>0</td>\n",
       "      <td>0</td>\n",
       "      <td>0</td>\n",
       "      <td>0</td>\n",
       "      <td>0</td>\n",
       "      <td>0</td>\n",
       "      <td>...</td>\n",
       "      <td>0</td>\n",
       "      <td>0</td>\n",
       "      <td>0</td>\n",
       "      <td>0</td>\n",
       "      <td>0</td>\n",
       "      <td>0</td>\n",
       "      <td>0</td>\n",
       "      <td>0</td>\n",
       "      <td>0</td>\n",
       "      <td>0</td>\n",
       "    </tr>\n",
       "    <tr>\n",
       "      <th>2</th>\n",
       "      <td>0</td>\n",
       "      <td>0</td>\n",
       "      <td>0</td>\n",
       "      <td>0</td>\n",
       "      <td>0</td>\n",
       "      <td>0</td>\n",
       "      <td>0</td>\n",
       "      <td>0</td>\n",
       "      <td>0</td>\n",
       "      <td>0</td>\n",
       "      <td>...</td>\n",
       "      <td>0</td>\n",
       "      <td>0</td>\n",
       "      <td>0</td>\n",
       "      <td>0</td>\n",
       "      <td>0</td>\n",
       "      <td>0</td>\n",
       "      <td>0</td>\n",
       "      <td>0</td>\n",
       "      <td>0</td>\n",
       "      <td>0</td>\n",
       "    </tr>\n",
       "    <tr>\n",
       "      <th>3</th>\n",
       "      <td>0</td>\n",
       "      <td>0</td>\n",
       "      <td>0</td>\n",
       "      <td>0</td>\n",
       "      <td>0</td>\n",
       "      <td>0</td>\n",
       "      <td>0</td>\n",
       "      <td>0</td>\n",
       "      <td>0</td>\n",
       "      <td>0</td>\n",
       "      <td>...</td>\n",
       "      <td>0</td>\n",
       "      <td>0</td>\n",
       "      <td>0</td>\n",
       "      <td>0</td>\n",
       "      <td>0</td>\n",
       "      <td>0</td>\n",
       "      <td>0</td>\n",
       "      <td>0</td>\n",
       "      <td>0</td>\n",
       "      <td>0</td>\n",
       "    </tr>\n",
       "    <tr>\n",
       "      <th>4</th>\n",
       "      <td>0</td>\n",
       "      <td>0</td>\n",
       "      <td>0</td>\n",
       "      <td>0</td>\n",
       "      <td>0</td>\n",
       "      <td>0</td>\n",
       "      <td>0</td>\n",
       "      <td>0</td>\n",
       "      <td>0</td>\n",
       "      <td>0</td>\n",
       "      <td>...</td>\n",
       "      <td>0</td>\n",
       "      <td>0</td>\n",
       "      <td>0</td>\n",
       "      <td>0</td>\n",
       "      <td>0</td>\n",
       "      <td>0</td>\n",
       "      <td>0</td>\n",
       "      <td>0</td>\n",
       "      <td>0</td>\n",
       "      <td>0</td>\n",
       "    </tr>\n",
       "  </tbody>\n",
       "</table>\n",
       "<p>5 rows × 6199 columns</p>\n",
       "</div>"
      ],
      "text/plain": [
       "   0MG67  1  1.1  1.1 LIMUZYNA  1.3  100  100 1.8  100 2,6 KAT.  100 2.0  \\\n",
       "0      0  0    0             0    0    0        0             0        0   \n",
       "1      0  0    0             0    0    0        0             0        0   \n",
       "2      0  0    0             0    0    0        0             0        0   \n",
       "3      0  0    0             0    0    0        0             0        0   \n",
       "4      0  0    0             0    0    0        0             0        0   \n",
       "\n",
       "   100 2.0 KAT  ...  ZAFIRA-A 2.0 DTL  ZAFIRA-A 2.0 TDI  ZAFIRA-B  \\\n",
       "0            0  ...                 0                 0         0   \n",
       "1            0  ...                 0                 0         0   \n",
       "2            0  ...                 0                 0         0   \n",
       "3            0  ...                 0                 0         0   \n",
       "4            0  ...                 0                 0         0   \n",
       "\n",
       "   ZAFIRA-B 1.7 CDTI  ZAFIRA-B 1.8  ZAFIRA-C  ZDX  ZOE  ZX  NaN  \n",
       "0                  0             0         0    0    0   0    0  \n",
       "1                  0             0         0    0    0   0    0  \n",
       "2                  0             0         0    0    0   0    0  \n",
       "3                  0             0         0    0    0   0    0  \n",
       "4                  0             0         0    0    0   0    0  \n",
       "\n",
       "[5 rows x 6199 columns]"
      ]
     },
     "execution_count": 9,
     "metadata": {},
     "output_type": "execute_result"
    }
   ],
   "source": [
    "pd.get_dummies(df_train.Model.unique(), drop_first = True, dummy_na= True).head()"
   ]
  },
  {
   "cell_type": "code",
   "execution_count": 10,
   "id": "e60cbc06-3b1b-4a0f-87aa-32a98572f8a6",
   "metadata": {},
   "outputs": [
    {
     "data": {
      "text/html": [
       "<div>\n",
       "<style scoped>\n",
       "    .dataframe tbody tr th:only-of-type {\n",
       "        vertical-align: middle;\n",
       "    }\n",
       "\n",
       "    .dataframe tbody tr th {\n",
       "        vertical-align: top;\n",
       "    }\n",
       "\n",
       "    .dataframe thead th {\n",
       "        text-align: right;\n",
       "    }\n",
       "</style>\n",
       "<table border=\"1\" class=\"dataframe\">\n",
       "  <thead>\n",
       "    <tr style=\"text-align: right;\">\n",
       "      <th></th>\n",
       "      <th>0</th>\n",
       "      <th>0*****</th>\n",
       "      <th>002</th>\n",
       "      <th>003</th>\n",
       "      <th>0G-A</th>\n",
       "      <th>0S</th>\n",
       "      <th>0U</th>\n",
       "      <th>0U****</th>\n",
       "      <th>1</th>\n",
       "      <th>1 HXO-SE/AFN</th>\n",
       "      <th>...</th>\n",
       "      <th>ZA1(EU,M)-TMG</th>\n",
       "      <th>ZC</th>\n",
       "      <th>ZE0</th>\n",
       "      <th>ZE1</th>\n",
       "      <th>ZE1EE(EU,M)</th>\n",
       "      <th>ZE1HE(EU,M)</th>\n",
       "      <th>ZE2</th>\n",
       "      <th>ZF1</th>\n",
       "      <th>ZN</th>\n",
       "      <th>ZR</th>\n",
       "    </tr>\n",
       "  </thead>\n",
       "  <tbody>\n",
       "    <tr>\n",
       "      <th>0</th>\n",
       "      <td>0</td>\n",
       "      <td>0</td>\n",
       "      <td>0</td>\n",
       "      <td>0</td>\n",
       "      <td>0</td>\n",
       "      <td>0</td>\n",
       "      <td>0</td>\n",
       "      <td>0</td>\n",
       "      <td>0</td>\n",
       "      <td>0</td>\n",
       "      <td>...</td>\n",
       "      <td>0</td>\n",
       "      <td>0</td>\n",
       "      <td>0</td>\n",
       "      <td>0</td>\n",
       "      <td>0</td>\n",
       "      <td>0</td>\n",
       "      <td>0</td>\n",
       "      <td>0</td>\n",
       "      <td>0</td>\n",
       "      <td>0</td>\n",
       "    </tr>\n",
       "    <tr>\n",
       "      <th>1</th>\n",
       "      <td>0</td>\n",
       "      <td>0</td>\n",
       "      <td>0</td>\n",
       "      <td>0</td>\n",
       "      <td>0</td>\n",
       "      <td>0</td>\n",
       "      <td>0</td>\n",
       "      <td>0</td>\n",
       "      <td>0</td>\n",
       "      <td>0</td>\n",
       "      <td>...</td>\n",
       "      <td>0</td>\n",
       "      <td>0</td>\n",
       "      <td>0</td>\n",
       "      <td>0</td>\n",
       "      <td>0</td>\n",
       "      <td>0</td>\n",
       "      <td>0</td>\n",
       "      <td>0</td>\n",
       "      <td>0</td>\n",
       "      <td>0</td>\n",
       "    </tr>\n",
       "    <tr>\n",
       "      <th>2</th>\n",
       "      <td>0</td>\n",
       "      <td>0</td>\n",
       "      <td>0</td>\n",
       "      <td>0</td>\n",
       "      <td>0</td>\n",
       "      <td>0</td>\n",
       "      <td>0</td>\n",
       "      <td>0</td>\n",
       "      <td>0</td>\n",
       "      <td>0</td>\n",
       "      <td>...</td>\n",
       "      <td>0</td>\n",
       "      <td>0</td>\n",
       "      <td>0</td>\n",
       "      <td>0</td>\n",
       "      <td>0</td>\n",
       "      <td>0</td>\n",
       "      <td>0</td>\n",
       "      <td>0</td>\n",
       "      <td>0</td>\n",
       "      <td>0</td>\n",
       "    </tr>\n",
       "    <tr>\n",
       "      <th>3</th>\n",
       "      <td>0</td>\n",
       "      <td>0</td>\n",
       "      <td>0</td>\n",
       "      <td>0</td>\n",
       "      <td>0</td>\n",
       "      <td>0</td>\n",
       "      <td>0</td>\n",
       "      <td>0</td>\n",
       "      <td>0</td>\n",
       "      <td>0</td>\n",
       "      <td>...</td>\n",
       "      <td>0</td>\n",
       "      <td>0</td>\n",
       "      <td>0</td>\n",
       "      <td>0</td>\n",
       "      <td>0</td>\n",
       "      <td>0</td>\n",
       "      <td>0</td>\n",
       "      <td>0</td>\n",
       "      <td>0</td>\n",
       "      <td>0</td>\n",
       "    </tr>\n",
       "    <tr>\n",
       "      <th>4</th>\n",
       "      <td>0</td>\n",
       "      <td>0</td>\n",
       "      <td>0</td>\n",
       "      <td>0</td>\n",
       "      <td>0</td>\n",
       "      <td>0</td>\n",
       "      <td>0</td>\n",
       "      <td>0</td>\n",
       "      <td>0</td>\n",
       "      <td>0</td>\n",
       "      <td>...</td>\n",
       "      <td>0</td>\n",
       "      <td>0</td>\n",
       "      <td>0</td>\n",
       "      <td>0</td>\n",
       "      <td>0</td>\n",
       "      <td>0</td>\n",
       "      <td>0</td>\n",
       "      <td>0</td>\n",
       "      <td>0</td>\n",
       "      <td>0</td>\n",
       "    </tr>\n",
       "  </tbody>\n",
       "</table>\n",
       "<p>5 rows × 1002 columns</p>\n",
       "</div>"
      ],
      "text/plain": [
       "   0  0*****  002  003  0G-A  0S  0U  0U****  1  1 HXO-SE/AFN  ...  \\\n",
       "0  0       0    0    0     0   0   0       0  0             0  ...   \n",
       "1  0       0    0    0     0   0   0       0  0             0  ...   \n",
       "2  0       0    0    0     0   0   0       0  0             0  ...   \n",
       "3  0       0    0    0     0   0   0       0  0             0  ...   \n",
       "4  0       0    0    0     0   0   0       0  0             0  ...   \n",
       "\n",
       "   ZA1(EU,M)-TMG  ZC  ZE0  ZE1  ZE1EE(EU,M)  ZE1HE(EU,M)  ZE2  ZF1  ZN  ZR  \n",
       "0              0   0    0    0            0            0    0    0   0   0  \n",
       "1              0   0    0    0            0            0    0    0   0   0  \n",
       "2              0   0    0    0            0            0    0    0   0   0  \n",
       "3              0   0    0    0            0            0    0    0   0   0  \n",
       "4              0   0    0    0            0            0    0    0   0   0  \n",
       "\n",
       "[5 rows x 1002 columns]"
      ]
     },
     "execution_count": 10,
     "metadata": {},
     "output_type": "execute_result"
    }
   ],
   "source": [
    "pd.get_dummies(df_train.Type.unique(), drop_first = True).head()"
   ]
  },
  {
   "cell_type": "code",
   "execution_count": 11,
   "id": "966fd39a-bf8a-49fe-b587-cb297e45eb5c",
   "metadata": {},
   "outputs": [],
   "source": [
    "df = pd.concat([ df_train['IsDeleted'],\n",
    "                   pd.get_dummies(df_train.Mark, drop_first = True),\n",
    "                   pd.get_dummies(df_train.Model, drop_first = True),\n",
    "                   pd.get_dummies(df_train.Type, drop_first = True)], axis = 1)"
   ]
  },
  {
   "cell_type": "code",
   "execution_count": 12,
   "id": "c34f7d17-d56e-4618-a3c7-39cd9e9efa57",
   "metadata": {},
   "outputs": [],
   "source": [
    "x = df.drop(['IsDeleted'], axis=1)\n",
    "\n",
    "y = df['IsDeleted']"
   ]
  },
  {
   "cell_type": "code",
   "execution_count": 13,
   "id": "5394c04f-c1c6-4e80-b79c-3353c4d63a70",
   "metadata": {},
   "outputs": [],
   "source": [
    "from sklearn.model_selection import train_test_split\n",
    "\n",
    "x_train, x_test, y_train, y_test = train_test_split(x, y, test_size = 0.2, random_state = 0)"
   ]
  },
  {
   "cell_type": "markdown",
   "id": "1cfa7792-2800-45a0-be4b-a830881f56b5",
   "metadata": {},
   "source": [
    "## Without class weight"
   ]
  },
  {
   "cell_type": "code",
   "execution_count": null,
   "id": "ea3c7280-ca2e-4500-a785-8e781e6ae022",
   "metadata": {},
   "outputs": [],
   "source": [
    "# train the logistic regression modeel on the training set with calss_weight - balanced\n",
    "from sklearn.linear_model import LogisticRegression\n",
    "\n",
    "logreg = LogisticRegression(solver = 'liblinear', class_weight='balanced')\n",
    "\n",
    "# fit the model\n",
    "logreg.fit(x_train, y_train)"
   ]
  },
  {
   "cell_type": "markdown",
   "id": "484c9925-64e1-4417-a461-3797bfa0cdc7",
   "metadata": {},
   "source": [
    "## Class weight Balanced"
   ]
  },
  {
   "cell_type": "code",
   "execution_count": 14,
   "id": "538564fe-9879-4415-9511-c913b0502f7b",
   "metadata": {
    "tags": []
   },
   "outputs": [
    {
     "data": {
      "text/plain": [
       "LogisticRegression(C=1.0, class_weight='balanced', dual=False,\n",
       "                   fit_intercept=True, intercept_scaling=1, l1_ratio=None,\n",
       "                   max_iter=100, multi_class='auto', n_jobs=None, penalty='l2',\n",
       "                   random_state=None, solver='liblinear', tol=0.0001, verbose=0,\n",
       "                   warm_start=False)"
      ]
     },
     "execution_count": 14,
     "metadata": {},
     "output_type": "execute_result"
    }
   ],
   "source": [
    "# train the logistic regression modeel on the training set with calss_weight - balanced\n",
    "from sklearn.linear_model import LogisticRegression\n",
    "\n",
    "logreg = LogisticRegression(solver = 'liblinear', class_weight='balanced')\n",
    "\n",
    "# fit the model\n",
    "logreg.fit(x_train, y_train)"
   ]
  },
  {
   "cell_type": "code",
   "execution_count": 15,
   "id": "53fdd31e-16f4-48a5-a732-dfbec9368d59",
   "metadata": {},
   "outputs": [
    {
     "data": {
      "text/plain": [
       "array([0, 0, 0, ..., 0, 0, 0], dtype=int64)"
      ]
     },
     "execution_count": 15,
     "metadata": {},
     "output_type": "execute_result"
    }
   ],
   "source": [
    "y_pred_test = logreg.predict(x_test)\n",
    "\n",
    "y_pred_test"
   ]
  },
  {
   "cell_type": "code",
   "execution_count": 16,
   "id": "ffa0e3c6-c3c1-4dae-8668-13b5613e33d0",
   "metadata": {},
   "outputs": [
    {
     "data": {
      "text/plain": [
       "array([0.78809276, 0.96586673, 0.92864695, ..., 0.89952387, 0.7175728 ,\n",
       "       0.67897515])"
      ]
     },
     "execution_count": 16,
     "metadata": {},
     "output_type": "execute_result"
    }
   ],
   "source": [
    "logreg.predict_proba(x_test)[:,0]"
   ]
  },
  {
   "cell_type": "code",
   "execution_count": 17,
   "id": "cb6680aa-20ad-4bf5-8b3c-04d7e79bc581",
   "metadata": {},
   "outputs": [
    {
     "name": "stdout",
     "output_type": "stream",
     "text": [
      "Model accuracy score: 0.9735\n"
     ]
    }
   ],
   "source": [
    "from sklearn.metrics import accuracy_score\n",
    "\n",
    "print('Model accuracy score: {0:0.4f}'.format(accuracy_score(y_test, y_pred_test)))"
   ]
  },
  {
   "cell_type": "code",
   "execution_count": 18,
   "id": "daead779-505a-488f-9e40-d54db02451f1",
   "metadata": {},
   "outputs": [],
   "source": [
    "# print the confusion matrix and slice it into four pieces\n",
    "\n",
    "from sklearn.metrics import confusion_matrix\n",
    "\n",
    "cm = confusion_matrix(y_test, y_pred_test)"
   ]
  },
  {
   "cell_type": "code",
   "execution_count": 19,
   "id": "d01d6d12-000a-4475-8f16-49033feadc0d",
   "metadata": {},
   "outputs": [
    {
     "data": {
      "text/plain": [
       "array([[3007,   34],\n",
       "       [  51,  111]], dtype=int64)"
      ]
     },
     "execution_count": 19,
     "metadata": {},
     "output_type": "execute_result"
    }
   ],
   "source": [
    "cm"
   ]
  },
  {
   "cell_type": "code",
   "execution_count": 20,
   "id": "24ec8ab4-d3bc-4776-9531-8adc3d6888cf",
   "metadata": {},
   "outputs": [
    {
     "name": "stdout",
     "output_type": "stream",
     "text": [
      "The f1 score for the testing data: 0.7231270358306189\n"
     ]
    },
    {
     "data": {
      "text/plain": [
       "<AxesSubplot:>"
      ]
     },
     "execution_count": 20,
     "metadata": {},
     "output_type": "execute_result"
    },
    {
     "data": {
      "image/png": "[encoded data removed]",
      "text/plain": [
       "<Figure size 432x288 with 2 Axes>"
      ]
     },
     "metadata": {
      "needs_background": "light"
     },
     "output_type": "display_data"
    }
   ],
   "source": [
    "# visualize confusion matrix with seaborn heatmap\n",
    "\n",
    "cm_matrix = pd.DataFrame(data=cm, columns=['Actual Positive:1', 'Actual Negative:0'], \n",
    "                                 index=['Predict Positive:1', 'Predict Negative:0'])\n",
    "\n",
    "#Calculating and printing the f1 score \n",
    "f1_test = f1_score(y_test, y_pred_test)\n",
    "print('The f1 score for the testing data:', f1_test)\n",
    "sns.heatmap(cm_matrix, annot=True, fmt='d', cmap='YlGnBu')"
   ]
  },
  {
   "cell_type": "code",
   "execution_count": 21,
   "id": "4bfdf70b-50d8-4d9b-b725-058bb297e9d2",
   "metadata": {},
   "outputs": [
    {
     "name": "stdout",
     "output_type": "stream",
     "text": [
      "              precision    recall  f1-score   support\n",
      "\n",
      "           0       0.98      0.99      0.99      3041\n",
      "           1       0.77      0.69      0.72       162\n",
      "\n",
      "    accuracy                           0.97      3203\n",
      "   macro avg       0.87      0.84      0.85      3203\n",
      "weighted avg       0.97      0.97      0.97      3203\n",
      "\n"
     ]
    }
   ],
   "source": [
    "from sklearn.metrics import classification_report\n",
    "\n",
    "print(classification_report(y_test, y_pred_test))"
   ]
  },
  {
   "cell_type": "markdown",
   "id": "d412e174-083a-490d-8820-d84b369471cc",
   "metadata": {},
   "source": [
    "## Class weight manual calucalted"
   ]
  },
  {
   "cell_type": "code",
   "execution_count": null,
   "id": "5b853279-0236-4cd1-8250-d9ac9b97ce78",
   "metadata": {},
   "outputs": [
    {
     "name": "stdout",
     "output_type": "stream",
     "text": [
      "Fitting 5 folds for each of 10 candidates, totalling 50 fits\n"
     ]
    },
    {
     "name": "stderr",
     "output_type": "stream",
     "text": [
      "[Parallel(n_jobs=-1)]: Using backend LokyBackend with 4 concurrent workers.\n"
     ]
    }
   ],
   "source": [
    "# Calculating the class weights\n",
    "from sklearn.model_selection import GridSearchCV, StratifiedKFold\n",
    "\n",
    "lr = LogisticRegression(solver = 'newton-cg')\n",
    "\n",
    "# Setting the range for class weights\n",
    "weights = np.linspace(0.0, 0.99, 10)\n",
    "\n",
    "weights\n",
    "# Creating a dictionary grid for grid search\n",
    "#param_grid = {'class_weight':[{0:x, 1:1.0-x} for x in weights]}\n",
    "\n",
    "param_grid\n",
    "# Fitting frid seatch to the train data with 5 folds\n",
    "#gridsearch = GridSearchCV(estimator = lr,\n",
    "#                         param_grid = param_grid,\n",
    "#                        cv = StratifiedKFold(),\n",
    "#                         n_jobs = -1,\n",
    "#                         scoring = 'f1',\n",
    "#                         verbose = 2).fit(x_train, y_train)"
   ]
  },
  {
   "cell_type": "code",
   "execution_count": null,
   "id": "4f38ef70-8e07-4c93-b3a4-518dbc5a72b2",
   "metadata": {},
   "outputs": [],
   "source": [
    "# ploting the score for different values of weight\n",
    "sns.set_style('whitegrid')\n",
    "plt.figure(figsize = (12, 8))\n",
    "weigh_data = pd.DataFrame({'score': gridsearch.cv_results_['mean_test_score'], 'weight': (1 - weights)})\n",
    "sns.lineplot(weigh_data['weight'], weigh_data['score'])\n",
    "plt.xlabel('Weight for class 1')\n",
    "plt.ylabel('F1 score')\n",
    "plt.xticks([round(i/10, 1) for i in range(0, 11, 1)])\n",
    "plt.title('Scoring for different class weights', fontsize = 24)"
   ]
  },
  {
   "cell_type": "code",
   "execution_count": 40,
   "id": "f2c9843b-5f25-45bb-b30b-c5df3d05b2e3",
   "metadata": {},
   "outputs": [],
   "source": [
    "#calculating weights\n",
    "n_sample = df_train.shape[0]\n",
    "n_classes = len(set(df_train['IsDeleted']))\n",
    "n_sample_0 = df_train['IsDeleted'].value_counts()[0]\n",
    "n_sample_1 = df_train['IsDeleted'].value_counts()[1]\n",
    "w0 = n_sample/(n_classes*n_sample_0)\n",
    "w1 = n_sample/(n_classes*n_sample_1)"
   ]
  },
  {
   "cell_type": "code",
   "execution_count": 48,
   "id": "86b85bbe-3817-4569-992d-7f2d25ed8432",
   "metadata": {},
   "outputs": [],
   "source": [
    "w1 = n_sample_0/n_sample\n",
    "w0 = 1 - w1"
   ]
  },
  {
   "cell_type": "code",
   "execution_count": 56,
   "id": "e887dfea-fba7-4b56-bbb6-7e6c8758fbd5",
   "metadata": {},
   "outputs": [
    {
     "name": "stdout",
     "output_type": "stream",
     "text": [
      "The f1 score for thee testing data: 0.2878980891719745\n"
     ]
    },
    {
     "data": {
      "text/plain": [
       "array([[2531,  510],\n",
       "       [  49,  113]], dtype=int64)"
      ]
     },
     "execution_count": 56,
     "metadata": {},
     "output_type": "execute_result"
    }
   ],
   "source": [
    "# train the logistic regression modeel on the training set with calss_weight - manual\n",
    "from sklearn.linear_model import LogisticRegression\n",
    "\n",
    "logreg = LogisticRegression(solver = 'liblinear', class_weight={0: w0, 1: w1})\n",
    "\n",
    "# fit the model\n",
    "logreg.fit(x_train, y_train)\n",
    "\n",
    "# predcit on the test data\n",
    "pred_test_w = logreg.predict(x_test)\n",
    "\n",
    "# calculatin and printing theee f1 score\n",
    "f1_test = f1_score(y_test, pred_test_w)\n",
    "print('The f1 score for thee testing data:', f1_test)\n",
    "\n",
    "#Ploting the confusion matrix\n",
    "confusion_matrix(y_test, pred_test_w)"
   ]
  },
  {
   "cell_type": "code",
   "execution_count": null,
   "id": "062992b8-220e-4d0a-8565-7a5d0594082f",
   "metadata": {},
   "outputs": [],
   "source": [
    "# So the best results we geet in the logistic reegression with balanced weights. I neeed to try calculate the manual wieghts but on this moment i do not have computer to calculate this."
   ]
  }
 ],
 "metadata": {
  "kernelspec": {
   "display_name": "Python 3",
   "language": "python",
   "name": "python3"
  },
  "language_info": {
   "codemirror_mode": {
    "name": "ipython",
    "version": 3
   },
   "file_extension": ".py",
   "mimetype": "text/x-python",
   "name": "python",
   "nbconvert_exporter": "python",
   "pygments_lexer": "ipython3",
   "version": "3.8.8"
  }
 },
 "nbformat": 4,
 "nbformat_minor": 5
}
